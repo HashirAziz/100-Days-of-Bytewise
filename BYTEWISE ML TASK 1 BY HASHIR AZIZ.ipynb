{
 "cells": [
  {
   "cell_type": "markdown",
   "id": "9b1d4575",
   "metadata": {},
   "source": [
    "# Q1"
   ]
  },
  {
   "cell_type": "code",
   "execution_count": 3,
   "id": "9615d24e",
   "metadata": {},
   "outputs": [
    {
     "name": "stdout",
     "output_type": "stream",
     "text": [
      "[100 200 230 400 500]\n",
      "<class 'numpy.ndarray'>\n"
     ]
    }
   ],
   "source": [
    "import numpy as np\n",
    "baseball = [100, 200, 230, 400, 500]\n",
    "np_baseball = np.array(baseball)\n",
    "print(np_baseball)\n",
    "print(type(np_baseball))\n",
    "\n"
   ]
  },
  {
   "cell_type": "markdown",
   "id": "c2c8add2",
   "metadata": {},
   "source": [
    "# Q2"
   ]
  },
  {
   "cell_type": "code",
   "execution_count": 6,
   "id": "80c6bc7d",
   "metadata": {},
   "outputs": [
    {
     "name": "stdout",
     "output_type": "stream",
     "text": [
      "[0.254 0.508 0.762 1.016 1.27  1.524 1.778 2.032 2.286 2.54 ]\n",
      "<class 'numpy.ndarray'>\n"
     ]
    }
   ],
   "source": [
    "height_inches = [10, 20, 30, 40, 50, 60, 70, 80, 90, 100]\n",
    "np_height_inches = np.array(height_inches)\n",
    "np_height_meter = np_height_inches * 0.0254\n",
    "print(np_height_meter)\n",
    "print(type(np_height_meter))\n",
    "\n"
   ]
  },
  {
   "cell_type": "markdown",
   "id": "b35559d8",
   "metadata": {},
   "source": [
    "# Q3"
   ]
  },
  {
   "cell_type": "code",
   "execution_count": 7,
   "id": "42997b6c",
   "metadata": {},
   "outputs": [
    {
     "name": "stdout",
     "output_type": "stream",
     "text": [
      "[24.41211827 26.87285979 24.26766786 20.65265206 25.72686361 23.71627614\n",
      " 25.10433334 23.11037639 23.12726994 24.40727556]\n",
      "<class 'numpy.ndarray'>\n"
     ]
    }
   ],
   "source": [
    "height_in = [72, 75, 78, 80, 73, 77, 69, 74, 76, 71]\n",
    "weight_lb = [180, 215, 210, 188, 195, 200, 170, 180, 190, 175]\n",
    "\n",
    "np_height_in = np.array(height_in)\n",
    "np_height_m = np_height_in * 0.0254\n",
    "\n",
    "np_weight_lb = np.array(weight_lb)\n",
    "np_weight_kg = np_weight_lb * 0.453592\n",
    "\n",
    "bmi = np_weight_kg / (np_height_m ** 2)\n",
    "\n",
    "print(bmi)\n",
    "\n",
    "print(type(bmi))\n"
   ]
  },
  {
   "cell_type": "markdown",
   "id": "577408a8",
   "metadata": {},
   "source": [
    "# Q4"
   ]
  },
  {
   "cell_type": "code",
   "execution_count": 9,
   "id": "15238ebb",
   "metadata": {},
   "outputs": [
    {
     "name": "stdout",
     "output_type": "stream",
     "text": [
      "[False False False  True False False False False False False]\n",
      "[20.65265206]\n"
     ]
    }
   ],
   "source": [
    "#height_in = [72, 75, 78, 80, 73, 77, 69, 74, 76, 71]\n",
    "#weight_lb = [180, 215, 210, 188, 195, 200, 170, 180, 190, 175]\n",
    "\n",
    "light = bmi < 21\n",
    "print(light)\n",
    "print(bmi[light])\n"
   ]
  },
  {
   "cell_type": "markdown",
   "id": "c34bd1cf",
   "metadata": {},
   "source": [
    "# Q5"
   ]
  },
  {
   "cell_type": "code",
   "execution_count": 10,
   "id": "d6d275f2",
   "metadata": {},
   "outputs": [
    {
     "data": {
      "text/plain": [
       "array([4, 5, 2])"
      ]
     },
     "execution_count": 10,
     "metadata": {},
     "output_type": "execute_result"
    }
   ],
   "source": [
    "np.array([True, 1, 2]) + np.array([3, 4, False])\n"
   ]
  },
  {
   "cell_type": "code",
   "execution_count": 13,
   "id": "e36cb3e9",
   "metadata": {},
   "outputs": [
    {
     "data": {
      "text/plain": [
       "array([4, 5, 2])"
      ]
     },
     "execution_count": 13,
     "metadata": {},
     "output_type": "execute_result"
    }
   ],
   "source": [
    "np.array([4, 3, 0]) + np.array([0, 2, 2])\n"
   ]
  },
  {
   "cell_type": "markdown",
   "id": "8b0ffab7",
   "metadata": {},
   "source": [
    "# Q6"
   ]
  },
  {
   "cell_type": "code",
   "execution_count": 19,
   "id": "859b08c8",
   "metadata": {},
   "outputs": [],
   "source": [
    "positions = ['GK', 'M', 'A', 'D', 'GK', 'M', 'A', 'D']\n",
    "heights = [191, 184, 185, 180, 192, 178, 175, 182]"
   ]
  },
  {
   "cell_type": "code",
   "execution_count": 20,
   "id": "ab71ccb9",
   "metadata": {},
   "outputs": [
    {
     "name": "stdout",
     "output_type": "stream",
     "text": [
      "Median height of goalkeepers: 191.5\n",
      "Median height of other players: 181.0\n"
     ]
    }
   ],
   "source": [
    "np_positions = np.array(positions)\n",
    "np_heights = np.array(heights)\n",
    "\n",
    "gk_heights = np_heights[np_positions == 'GK']\n",
    "\n",
    "other_heights = np_heights[np_positions != 'GK']\n",
    "print(\"Median height of goalkeepers:\", np.median(gk_heights))\n",
    "print(\"Median height of other players:\", np.median(other_heights))\n"
   ]
  },
  {
   "cell_type": "code",
   "execution_count": null,
   "id": "ea6f5f9c",
   "metadata": {},
   "outputs": [],
   "source": []
  }
 ],
 "metadata": {
  "kernelspec": {
   "display_name": "Python 3 (ipykernel)",
   "language": "python",
   "name": "python3"
  },
  "language_info": {
   "codemirror_mode": {
    "name": "ipython",
    "version": 3
   },
   "file_extension": ".py",
   "mimetype": "text/x-python",
   "name": "python",
   "nbconvert_exporter": "python",
   "pygments_lexer": "ipython3",
   "version": "3.11.5"
  }
 },
 "nbformat": 4,
 "nbformat_minor": 5
}
